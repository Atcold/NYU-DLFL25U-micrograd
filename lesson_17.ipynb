{
 "cells": [
  {
   "cell_type": "code",
   "execution_count": null,
   "id": "be42d799",
   "metadata": {},
   "outputs": [],
   "source": [
    "# For visualisation purpose only (off topic)\n",
    "from graph import draw_dot"
   ]
  },
  {
   "cell_type": "code",
   "execution_count": null,
   "id": "e0cbeaee",
   "metadata": {},
   "outputs": [],
   "source": [
    "class Value:\n",
    "    def __init__(self, data, _children=(), _op='', label='', color=None):\n",
    "        self.data = data\n",
    "        self.grad = 0\n",
    "        self._prev = set(_children)\n",
    "        self._op = _op\n",
    "        self.label = label\n",
    "        self.color = color\n",
    "        self._backward = lambda: None\n",
    "    \n",
    "    def __repr__(self):\n",
    "        return f'{self.label or 'Value'}(data={self.data:.2f}, grad={self.grad:.3f})'\n",
    "    \n",
    "    def __add__(self, other):\n",
    "        out = Value(self.data + other.data, (self, other), '+')\n",
    "\n",
    "        def _backward():\n",
    "            self.grad = out.grad   # to be fixed\n",
    "            other.grad = out.grad  # to be fixed\n",
    "            self.color = 'green'\n",
    "            other.color = 'green'\n",
    "        out._backward = _backward\n",
    "\n",
    "        return out\n",
    "    \n",
    "    def __mul__(self, other):\n",
    "        out = Value(self.data * other.data, (self, other), '×')\n",
    "\n",
    "        def _backward():\n",
    "            self.grad = other.data * out.grad  # to be fixed\n",
    "            other.grad = self.data * out.grad  # to be fixed\n",
    "            self.color = 'green'\n",
    "            other.color = 'green'\n",
    "        out._backward = _backward\n",
    "\n",
    "        return out\n"
   ]
  },
  {
   "cell_type": "code",
   "execution_count": null,
   "id": "3d84589a",
   "metadata": {},
   "outputs": [],
   "source": [
    "# Leaves\n",
    "x1  = Value(+1,   label='x1')\n",
    "x2  = Value(+0,   label='x2')\n",
    "w11 = Value(-2,   label='w11')\n",
    "w12 = Value(+4,   label='w12')\n",
    "w21 = Value(+3,   label='w21')\n",
    "w22 = Value(-1,   label='w22')\n",
    "\n",
    "# s = W @ x\n",
    "w11x1 = w11 * x1;    w11x1.label = 'w11x1'\n",
    "w12x2 = w12 * x2;    w12x2.label = 'w12x2'\n",
    "s1 = w11x1 + w12x2;  s1.label = 's1'\n",
    "w21x1 = w21 * x1;    w21x1.label = 'w21x1'\n",
    "w22x2 = w22 * x2;    w22x2.label = 'w22x2'\n",
    "s2 = w21x1 + w22x2;  s2.label = 's2'\n",
    "\n",
    "# create an artificial root for graph viz\n",
    "root = s1 + s2;  root.label = 'root';  root.color = 'black'"
   ]
  },
  {
   "cell_type": "code",
   "execution_count": null,
   "id": "e8734f66",
   "metadata": {},
   "outputs": [],
   "source": [
    "draw_dot(root)"
   ]
  },
  {
   "cell_type": "code",
   "execution_count": null,
   "id": "41cab80b",
   "metadata": {},
   "outputs": [],
   "source": [
    "w21x1._backward()"
   ]
  },
  {
   "cell_type": "code",
   "execution_count": null,
   "id": "ba675f8b",
   "metadata": {},
   "outputs": [],
   "source": [
    "s2._backward()"
   ]
  },
  {
   "cell_type": "code",
   "execution_count": null,
   "id": "e65f1de4",
   "metadata": {},
   "outputs": [],
   "source": [
    "w11x1._backward()"
   ]
  },
  {
   "cell_type": "code",
   "execution_count": null,
   "id": "374230a3",
   "metadata": {},
   "outputs": [],
   "source": [
    "s1._backward()"
   ]
  },
  {
   "cell_type": "code",
   "execution_count": null,
   "id": "798fe334",
   "metadata": {},
   "outputs": [],
   "source": [
    "s1.grad = 0.25;   s1.color = 'green'\n",
    "s2.grad = -0.125;  s2.color = 'green'"
   ]
  }
 ],
 "metadata": {
  "kernelspec": {
   "display_name": "NYU-DL",
   "language": "python",
   "name": "python3"
  },
  "language_info": {
   "codemirror_mode": {
    "name": "ipython",
    "version": 3
   },
   "file_extension": ".py",
   "mimetype": "text/x-python",
   "name": "python",
   "nbconvert_exporter": "python",
   "pygments_lexer": "ipython3",
   "version": "3.12.12"
  }
 },
 "nbformat": 4,
 "nbformat_minor": 5
}
