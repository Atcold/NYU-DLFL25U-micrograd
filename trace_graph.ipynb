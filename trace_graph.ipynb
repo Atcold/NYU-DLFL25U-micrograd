{
 "cells": [
  {
   "cell_type": "code",
   "execution_count": null,
   "metadata": {},
   "outputs": [],
   "source": [
    "# brew install graphviz\n",
    "# pip install graphviz\n",
    "from graphviz import Digraph"
   ]
  },
  {
   "cell_type": "code",
   "execution_count": null,
   "metadata": {},
   "outputs": [],
   "source": [
    "from micrograd.engine import Value"
   ]
  },
  {
   "cell_type": "code",
   "execution_count": null,
   "metadata": {},
   "outputs": [],
   "source": [
    "def trace(root):\n",
    "    nodes, edges = set(), set()\n",
    "    def build(v):\n",
    "        if v not in nodes:\n",
    "            nodes.add(v)\n",
    "            for child in v._prev:\n",
    "                edges.add((child, v))\n",
    "                build(child)\n",
    "    build(root)\n",
    "    return nodes, edges\n",
    "\n",
    "def draw_dot(root, format='svg', rankdir='LR'):\n",
    "    \"\"\"\n",
    "    format: png | svg | ...\n",
    "    rankdir: TB (top to bottom graph) | LR (left to right)\n",
    "    \"\"\"\n",
    "    assert rankdir in ['LR', 'TB']\n",
    "    nodes, edges = trace(root)\n",
    "    dot = Digraph(format=format, graph_attr={'rankdir': rankdir}) #, node_attr={'rankdir': 'TB'})\n",
    "\n",
    "    # Set background color for the entire graph\n",
    "    dot.graph_attr['bgcolor'] = '#282C35'  # Dark background\n",
    "\n",
    "    # Set default attributes for nodes\n",
    "    dot.node_attr['fontcolor'] = '#e6e6e6'  # Light font color\n",
    "    dot.node_attr['style'] = 'filled'\n",
    "    dot.node_attr['color'] = '#e6e6e6'  # Light border color\n",
    "    dot.node_attr['fillcolor'] = '#333333' # Dark fill color for nodes\n",
    "\n",
    "    # Set default attributes for edges\n",
    "    dot.edge_attr['color'] = '#e6e6e6'  # Light edge color\n",
    "    dot.edge_attr['fontcolor'] = '#e6e6e6' # Light font color for edge labels\n",
    "    \n",
    "    for n in nodes:\n",
    "        # dot.node(name=str(id(n)), label = \"{ %s | %.2f | ∇ %.3f }\" % (n.label, n.data, n.grad), shape='record')\n",
    "        minus = '−'  # Unicode U+2212\n",
    "        dot.node(name=str(id(n)), label=\"{ %s | %s | ∇: %s }\" % (\n",
    "            n.label,\n",
    "            f\"{n.data:.2f}\".replace('-', minus),\n",
    "            f\"{n.grad:.3f}\".replace('-', minus)\n",
    "        ), shape='record', color=n.color)\n",
    "        if n._op:\n",
    "            dot.node(name=str(id(n)) + n._op, label=n._op, shape='cds', color='aqua')\n",
    "            dot.edge(str(id(n)) + n._op, str(id(n)))\n",
    "    \n",
    "    for n1, n2 in edges:\n",
    "        dot.edge(str(id(n1)), str(id(n2)) + n2._op)\n",
    "    \n",
    "    return dot"
   ]
  },
  {
   "cell_type": "code",
   "execution_count": null,
   "metadata": {},
   "outputs": [],
   "source": [
    "# a very simple example\n",
    "x = Value(1.0, label='x')\n",
    "y = (x * 2 + 1).relu(); y.label = 'y'\n",
    "y.backward()\n",
    "draw_dot(y)"
   ]
  },
  {
   "cell_type": "code",
   "execution_count": null,
   "metadata": {},
   "outputs": [],
   "source": [
    "# Leaves\n",
    "x1  = Value(+1, label='x1')\n",
    "x2  = Value(+0, label='x2')\n",
    "w11 = Value(-2, label='w11')\n",
    "w12 = Value(+4, label='w12')\n",
    "w21 = Value(+3, label='w21')\n",
    "w22 = Value(-1, label='w22')\n",
    "w1  = Value(-1, label='w1')\n",
    "w2  = Value(1/12,label='w2')\n",
    "y   = Value(+1, label='y')\n",
    "\n",
    "# s = W @ x\n",
    "w11x1 = w11 * x1; w11x1.label = 'w11x1'\n",
    "w12x2 = w12 * x2; w12x2.label = 'w12x2'\n",
    "s1 = w11x1 + w12x2; s1.label = 's1'\n",
    "w21x1 = w21 * x1; w21x1.label = 'w21x1'\n",
    "w22x2 = w22 * x2; w22x2.label = 'w22x2'\n",
    "s2 = w21x1 + w22x2; s2.label = 's2'\n",
    "\n",
    "# h = (s)+\n",
    "h1 = s1.relu(); h1.label = 'h1'\n",
    "h2 = s2.relu(); h2.label = 'h2'\n",
    "\n",
    "# y~ = wTh\n",
    "w1h1 = w1 * h1; w1h1.label = 'w1h1'\n",
    "w2h2 = w2 * h2; w2h2.label = 'w2h2'\n",
    "ytld = w1h1 + w2h2; ytld.label = 'ytld'\n",
    "\n",
    "# C = (y - ytld)^2\n",
    "_ytld = -ytld; _ytld.label = '−ytld'\n",
    "C = (y + _ytld)**2; C.label = 'C'; C.color = 'red'"
   ]
  },
  {
   "cell_type": "code",
   "execution_count": null,
   "metadata": {},
   "outputs": [],
   "source": [
    "draw_dot(C)"
   ]
  },
  {
   "cell_type": "code",
   "execution_count": null,
   "metadata": {},
   "outputs": [],
   "source": [
    "C.backward()"
   ]
  },
  {
   "cell_type": "code",
   "execution_count": null,
   "metadata": {},
   "outputs": [],
   "source": [
    "draw_dot(C)"
   ]
  },
  {
   "cell_type": "code",
   "execution_count": null,
   "metadata": {},
   "outputs": [],
   "source": [
    "# a simple 2D neuron\n",
    "import random\n",
    "from micrograd import nn\n",
    "\n",
    "random.seed(1337)\n",
    "n = nn.Neuron(2)\n",
    "x = [Value(1.0), Value(-2.0)]\n",
    "y = n(x)\n",
    "y.backward()\n",
    "\n",
    "dot = draw_dot(y)\n",
    "dot"
   ]
  },
  {
   "cell_type": "code",
   "execution_count": null,
   "metadata": {},
   "outputs": [],
   "source": [
    "dot.render('gout')"
   ]
  }
 ],
 "metadata": {
  "kernelspec": {
   "display_name": "NYU-DL",
   "language": "python",
   "name": "python3"
  },
  "language_info": {
   "codemirror_mode": {
    "name": "ipython",
    "version": 3
   },
   "file_extension": ".py",
   "mimetype": "text/x-python",
   "name": "python",
   "nbconvert_exporter": "python",
   "pygments_lexer": "ipython3",
   "version": "3.12.12"
  }
 },
 "nbformat": 4,
 "nbformat_minor": 2
}
