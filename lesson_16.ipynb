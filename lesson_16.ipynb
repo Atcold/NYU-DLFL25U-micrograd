{
 "cells": [
  {
   "cell_type": "code",
   "execution_count": null,
   "id": "0eb8a17e",
   "metadata": {},
   "outputs": [],
   "source": [
    "# For visualisation purpose only (off topic)\n",
    "from graph import draw_dot"
   ]
  },
  {
   "cell_type": "markdown",
   "id": "56dfae24",
   "metadata": {},
   "source": [
    "# How to build lecture 16\n",
    "\n",
    " - Start with `class Value` skeleton\n",
    "   - `__init__` without `self._backward`\n",
    "   - `__repr__` for `print`ing\n",
    "   - `__add__`, `__mul__`, `__pow__`, `relu`, `__neg__` forward pass only\n",
    " - def leaves,\n",
    " - compute\n",
    "   - `s = W @ x`\n",
    "   - `h = (s)⁺`\n",
    "   - `y~ = wᵀh`\n",
    "   - `C = (y - ytld)^²`\n",
    " - draw the tree\n",
    " - set `∇C = 1` (here `∇C` is a shorthand for `∂L/∂C`)\n",
    " - add `_backward()` to predefined functions to compute `gradInput` given `gradOutput`\n",
    " - set `∇C = 1`\n",
    " - call `C._backward()` and to all preceding `Values`\n",
    " - it takes forever => define `backward()` method\n",
    "   - sorts topologically the tree\n",
    "   - set `∇C = 1`\n",
    "   - iteratively call `_backward()` on `reversed` sorted tree \n",
    "\n",
    " ## Definitions\n",
    " - _neuron_: a `list` of weights that compute `s` given an input\n",
    " - _layer_: a `list` of neurons that compute `s1`, `s2`, …\n",
    " - _model_: a `list` of layers that compute `y~`\n",
    "\n",
    " ## Training the model\n",
    " `for (x,y) in 𝒟:`\n",
    " 1. `y~ = model(x)`\n",
    " 2. `L = C(y, y~)`\n",
    " 3. `model.zero_grad()` (more about this in the next episode)\n",
    " 4. `L.backward()`\n",
    " 5. `w = w - η∂L/∂w`\n",
    "\n",
    "## Unanswered questions\n",
    " 1. why using `set` for `_prev`?\n",
    " 2. do we compute or _accumulate_ gradients in `_backward()`?"
   ]
  },
  {
   "cell_type": "code",
   "execution_count": null,
   "id": "c1e9cbd5",
   "metadata": {},
   "outputs": [],
   "source": [
    "class Value:\n",
    "    def __init__(self, data, _children=(), _op='', label='', color=None):\n",
    "        self.data = data\n",
    "        self.grad = 0\n",
    "        self._prev = set(_children)\n",
    "        self._op = _op\n",
    "        self.label = label\n",
    "        self.color = color\n",
    "        self._backward = lambda: None\n",
    "    \n",
    "    def __repr__(self):\n",
    "        return f'{self.label or 'Value'}(data={self.data:.2f}, grad={self.grad:.3f})'\n",
    "    \n",
    "    def __add__(self, other):\n",
    "        out = Value(self.data + other.data, (self, other), '+')\n",
    "\n",
    "        def _backward():\n",
    "            self.grad = out.grad\n",
    "            other.grad = out.grad\n",
    "            self.color = 'green'\n",
    "            other.color = 'green'\n",
    "        out._backward = _backward\n",
    "\n",
    "        return out\n",
    "    \n",
    "    def __mul__(self, other):\n",
    "        out = Value(self.data * other.data, (self, other), '×')\n",
    "\n",
    "        def _backward():\n",
    "            self.grad = other.data * out.grad\n",
    "            other.grad = self.data * out.grad\n",
    "            self.color = 'green'\n",
    "            other.color = 'green'\n",
    "        out._backward = _backward\n",
    "\n",
    "        return out\n",
    "    \n",
    "    def __pow__(self, other):\n",
    "        out = Value(self.data**other, (self,), f'^{other}')\n",
    "\n",
    "        def _backward():\n",
    "            self.grad = (other * self.data**(other-1)) * out.grad\n",
    "            self.color = 'green'\n",
    "        out._backward = _backward\n",
    "\n",
    "        return out\n",
    "    \n",
    "    def relu(self):\n",
    "        out = Value(0 if self.data < 0 else self.data, (self,), '(⋅)⁺')\n",
    "\n",
    "        def _backward():\n",
    "            self.grad = (out.data > 0) * out.grad\n",
    "            self.color = 'green'\n",
    "        out._backward = _backward\n",
    "\n",
    "        return out\n",
    "    \n",
    "    def __neg__(self): # -self\n",
    "        return self * Value(-1)\n",
    "    \n",
    "    def backward(self):\n",
    "        topo = []\n",
    "        visited = set()\n",
    "        def build_topo(v):\n",
    "            if v not in visited:\n",
    "                visited.add(v)\n",
    "                for child in v._prev:\n",
    "                    build_topo(child)\n",
    "                topo.append(v)\n",
    "        build_topo(self)\n",
    "        self.grad = 1\n",
    "        for v in reversed(topo):\n",
    "            v._backward()\n"
   ]
  },
  {
   "cell_type": "code",
   "execution_count": null,
   "id": "6cda693a",
   "metadata": {},
   "outputs": [],
   "source": [
    "# Leaves\n",
    "x1  = Value(+1,   label='x1')\n",
    "x2  = Value(+0,   label='x2')\n",
    "w11 = Value(-2,   label='w11')\n",
    "w12 = Value(+4,   label='w12')\n",
    "w21 = Value(+3,   label='w21')\n",
    "w22 = Value(-1,   label='w22')\n",
    "w1  = Value(-1,   label='w1')\n",
    "w2  = Value(1/12, label='w2')\n",
    "y   = Value(+1,   label='y')\n",
    "\n",
    "# s = W @ x\n",
    "w11x1 = w11 * x1;    w11x1.label = 'w11x1'\n",
    "w12x2 = w12 * x2;    w12x2.label = 'w12x2'\n",
    "s1 = w11x1 + w12x2;  s1.label = 's1'\n",
    "w21x1 = w21 * x1;    w21x1.label = 'w21x1'\n",
    "w22x2 = w22 * x2;    w22x2.label = 'w22x2'\n",
    "s2 = w21x1 + w22x2;  s2.label = 's2'\n",
    "\n",
    "# h = (s)⁺\n",
    "h1 = s1.relu();  h1.label = 'h1'\n",
    "h2 = s2.relu();  h2.label = 'h2'\n",
    "\n",
    "# y~ = wᵀh\n",
    "w1h1 = w1 * h1;      w1h1.label = 'w1h1'\n",
    "w2h2 = w2 * h2;      w2h2.label = 'w2h2'\n",
    "ytld = w1h1 + w2h2;  ytld.label = 'ytld'\n",
    "\n",
    "# C = (y - ytld)²\n",
    "_ytld = -ytld;       _ytld.label = '−ytld'\n",
    "y_ytld = y + _ytld;  y_ytld.label = 'y − ytld'\n",
    "C = y_ytld**2;       C.label = 'C';  C.color = 'red'"
   ]
  },
  {
   "cell_type": "code",
   "execution_count": null,
   "id": "d1080f6e",
   "metadata": {},
   "outputs": [],
   "source": [
    "# Draw tree\n",
    "draw_dot(C)"
   ]
  },
  {
   "cell_type": "markdown",
   "id": "c222f2f0",
   "metadata": {},
   "source": [
    "The next cells need to be run backward, from `C.grad = 1` upwards"
   ]
  },
  {
   "cell_type": "code",
   "execution_count": null,
   "id": "3ecd8386",
   "metadata": {},
   "outputs": [],
   "source": [
    "w21x1._backward()"
   ]
  },
  {
   "cell_type": "code",
   "execution_count": null,
   "id": "1a080c2e",
   "metadata": {},
   "outputs": [],
   "source": [
    "w22x2._backward()"
   ]
  },
  {
   "cell_type": "code",
   "execution_count": null,
   "id": "6cede198",
   "metadata": {},
   "outputs": [],
   "source": [
    "s2._backward()"
   ]
  },
  {
   "cell_type": "code",
   "execution_count": null,
   "id": "14f69bf4",
   "metadata": {},
   "outputs": [],
   "source": [
    "h2._backward()"
   ]
  },
  {
   "cell_type": "code",
   "execution_count": null,
   "id": "ec75f530",
   "metadata": {},
   "outputs": [],
   "source": [
    "w2h2._backward()"
   ]
  },
  {
   "cell_type": "code",
   "execution_count": null,
   "id": "2e3ec8d8",
   "metadata": {},
   "outputs": [],
   "source": [
    "h1._backward()"
   ]
  },
  {
   "cell_type": "code",
   "execution_count": null,
   "id": "158399a5",
   "metadata": {},
   "outputs": [],
   "source": [
    "w1h1._backward()"
   ]
  },
  {
   "cell_type": "code",
   "execution_count": null,
   "id": "c3846058",
   "metadata": {},
   "outputs": [],
   "source": [
    "ytld._backward()"
   ]
  },
  {
   "cell_type": "code",
   "execution_count": null,
   "id": "d8fd4383",
   "metadata": {},
   "outputs": [],
   "source": [
    "_ytld._backward()"
   ]
  },
  {
   "cell_type": "code",
   "execution_count": null,
   "id": "2e1b2a28",
   "metadata": {},
   "outputs": [],
   "source": [
    "y_ytld._backward()"
   ]
  },
  {
   "cell_type": "code",
   "execution_count": null,
   "id": "2bf3a557",
   "metadata": {},
   "outputs": [],
   "source": [
    "C._backward()"
   ]
  },
  {
   "cell_type": "code",
   "execution_count": null,
   "id": "a521821b",
   "metadata": {},
   "outputs": [],
   "source": [
    "# Starts with ∂L/∂C = 1\n",
    "C.grad = 1"
   ]
  },
  {
   "cell_type": "markdown",
   "id": "22170fb5",
   "metadata": {},
   "source": [
    "Automating these manual calls"
   ]
  },
  {
   "cell_type": "code",
   "execution_count": null,
   "id": "9f06d3b0",
   "metadata": {},
   "outputs": [],
   "source": [
    "topo = []\n",
    "visited = set()\n",
    "def build_topo(v):\n",
    "    if v not in visited:\n",
    "        visited.add(v)\n",
    "        for child in v._prev:\n",
    "            build_topo(child)\n",
    "        topo.append(v)\n",
    "build_topo(C)"
   ]
  },
  {
   "cell_type": "code",
   "execution_count": null,
   "id": "321dfc6c",
   "metadata": {},
   "outputs": [],
   "source": [
    "topo"
   ]
  },
  {
   "cell_type": "code",
   "execution_count": null,
   "id": "80ae426e",
   "metadata": {},
   "outputs": [],
   "source": [
    "C.backward()"
   ]
  }
 ],
 "metadata": {
  "kernelspec": {
   "display_name": "NYU-DL",
   "language": "python",
   "name": "python3"
  },
  "language_info": {
   "codemirror_mode": {
    "name": "ipython",
    "version": 3
   },
   "file_extension": ".py",
   "mimetype": "text/x-python",
   "name": "python",
   "nbconvert_exporter": "python",
   "pygments_lexer": "ipython3",
   "version": "3.13.2"
  }
 },
 "nbformat": 4,
 "nbformat_minor": 5
}
